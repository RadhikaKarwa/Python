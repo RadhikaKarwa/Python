{
  "nbformat": 4,
  "nbformat_minor": 0,
  "metadata": {
    "colab": {
      "name": "[Optional Assignment] Python Practice Questions(RadhikaRathi).ipynb",
      "provenance": [],
      "collapsed_sections": []
    },
    "kernelspec": {
      "name": "python3",
      "display_name": "Python 3"
    },
    "language_info": {
      "name": "python"
    }
  },
  "cells": [
    {
      "cell_type": "markdown",
      "metadata": {
        "id": "v03R9b9RS8zo"
      },
      "source": [
        "Q1. Write a function that inputs a number and prints the multiplication table of that number."
      ]
    },
    {
      "cell_type": "code",
      "metadata": {
        "colab": {
          "base_uri": "https://localhost:8080/"
        },
        "id": "EudeHLSzTni3",
        "outputId": "b3114949-c266-48ce-93c2-8ef8685b14c7"
      },
      "source": [
        "def table(num):\n",
        "    return [i*num for i in range(1,11)]\n",
        "    \n",
        "       \n",
        "table(int(input('Enter a number')))"
      ],
      "execution_count": 1,
      "outputs": [
        {
          "name": "stdout",
          "output_type": "stream",
          "text": [
            "Enter a number10\n"
          ]
        },
        {
          "output_type": "execute_result",
          "data": {
            "text/plain": [
              "[10, 20, 30, 40, 50, 60, 70, 80, 90, 100]"
            ]
          },
          "metadata": {},
          "execution_count": 1
        }
      ]
    },
    {
      "cell_type": "markdown",
      "metadata": {
        "id": "uElYieyQToBA"
      },
      "source": [
        "Q2. Write a program to print twin primes less than 1000. If two consecutive odd numbers are both prime then they are known as twin primes."
      ]
    },
    {
      "cell_type": "code",
      "metadata": {
        "colab": {
          "base_uri": "https://localhost:8080/"
        },
        "id": "JKYNK9oAVkg_",
        "outputId": "ee0eb6bf-3c6b-4bf0-9962-dd1c0a1a1be1"
      },
      "source": [
        "# reference - https://www.tutorialspoint.com/How-to-generate-prime-twins-using-Python\n",
        "\n",
        "def is_prime(n):\n",
        "   for i in range(2, n):\n",
        "      if n % i == 0:\n",
        "         return False\n",
        "   return True\n",
        "\n",
        "def generate_twins(a, b):\n",
        "   for i in range(a, b):\n",
        "      j = i + 2\n",
        "      if(is_prime(i) and is_prime(j)):\n",
        "         print(\"{:d} and {:d}\".format(i, j))\n",
        "\n",
        "generate_twins(2, 1000)"
      ],
      "execution_count": 3,
      "outputs": [
        {
          "output_type": "stream",
          "name": "stdout",
          "text": [
            "3 and 5\n",
            "5 and 7\n",
            "11 and 13\n",
            "17 and 19\n",
            "29 and 31\n",
            "41 and 43\n",
            "59 and 61\n",
            "71 and 73\n",
            "101 and 103\n",
            "107 and 109\n",
            "137 and 139\n",
            "149 and 151\n",
            "179 and 181\n",
            "191 and 193\n",
            "197 and 199\n",
            "227 and 229\n",
            "239 and 241\n",
            "269 and 271\n",
            "281 and 283\n",
            "311 and 313\n",
            "347 and 349\n",
            "419 and 421\n",
            "431 and 433\n",
            "461 and 463\n",
            "521 and 523\n",
            "569 and 571\n",
            "599 and 601\n",
            "617 and 619\n",
            "641 and 643\n",
            "659 and 661\n",
            "809 and 811\n",
            "821 and 823\n",
            "827 and 829\n",
            "857 and 859\n",
            "881 and 883\n"
          ]
        }
      ]
    },
    {
      "cell_type": "markdown",
      "metadata": {
        "id": "_OI5uEsHVlND"
      },
      "source": [
        "Q3. Write a program to find out the prime factors of a number. Example: prime factors of 56 - 2,2,2,7."
      ]
    },
    {
      "cell_type": "code",
      "metadata": {
        "colab": {
          "base_uri": "https://localhost:8080/"
        },
        "id": "SZ6n2k5MV4RE",
        "outputId": "f19edafe-c913-4cee-e428-66e4230ea3e8"
      },
      "source": [
        "import math                   #Reference-https://www.pythonpool.com/prime-factorization-python/\n",
        "\n",
        "def primefactor(n):\n",
        "    #even number\n",
        "    while n%2==0:\n",
        "        print(2)\n",
        "        n=n/2\n",
        "    #odd number\n",
        "    for i in range(3,int(math.sqrt(n))+1,2):\n",
        "        while n%i==0:\n",
        "            print(i)\n",
        "            n=n/i\n",
        "    if n>2:\n",
        "        print(n) \n",
        "primefactor(int(input(\"Enter Number: \")))"
      ],
      "execution_count": 10,
      "outputs": [
        {
          "output_type": "stream",
          "name": "stdout",
          "text": [
            "Enter Number: 25\n",
            "5\n",
            "5\n"
          ]
        }
      ]
    },
    {
      "cell_type": "markdown",
      "metadata": {
        "id": "a5wivp5JV4ns"
      },
      "source": [
        "Q4. Write a program to implement these formulae of permutations and combinations. Number of permutations of n objects taken r at a time: p(n,r)=n!/(n-r)!. Number of combinations of n objects taken r at a time is : n!/(r!*(n-r)!)=p(n,r)/r!."
      ]
    },
    {
      "cell_type": "code",
      "metadata": {
        "colab": {
          "base_uri": "https://localhost:8080/"
        },
        "id": "V0Kk2lp2W3P9",
        "outputId": "d23193d0-013e-42f4-92b6-ca73c2d2f22c"
      },
      "source": [
        "def fact(n):\n",
        "    return 1 if n<=0 else n*fact(n-1)\n",
        "\n",
        "def npr(n,r):\n",
        "    return fact(n)/fact(n-r)\n",
        "\n",
        "\n",
        "npr(int(input(\"Enter n: \")),int(input(\"Enter r: \")))\n",
        "\n"
      ],
      "execution_count": 17,
      "outputs": [
        {
          "name": "stdout",
          "output_type": "stream",
          "text": [
            "Enter n25\n",
            "Enter r2\n"
          ]
        },
        {
          "output_type": "execute_result",
          "data": {
            "text/plain": [
              "600.0"
            ]
          },
          "metadata": {},
          "execution_count": 17
        }
      ]
    },
    {
      "cell_type": "code",
      "metadata": {
        "colab": {
          "base_uri": "https://localhost:8080/"
        },
        "id": "OnkwmlHJ06Zp",
        "outputId": "4c21f08d-2c1f-4a99-8e0b-3fc4d2cf1154"
      },
      "source": [
        "def ncr(n,r):\n",
        "    return npr(n,r)/fact(r)\n",
        "\n",
        "ncr(int(input(\"Enter n: \")),int(input(\"Enter r: \")))"
      ],
      "execution_count": 19,
      "outputs": [
        {
          "name": "stdout",
          "output_type": "stream",
          "text": [
            "Enter n: 10\n",
            "Enter r: 5\n"
          ]
        },
        {
          "output_type": "execute_result",
          "data": {
            "text/plain": [
              "252.0"
            ]
          },
          "metadata": {},
          "execution_count": 19
        }
      ]
    },
    {
      "cell_type": "markdown",
      "metadata": {
        "id": "7L-teA3DW5Qy"
      },
      "source": [
        "Q5. Write a function that converts a decimal number to binary number."
      ]
    },
    {
      "cell_type": "code",
      "metadata": {
        "colab": {
          "base_uri": "https://localhost:8080/"
        },
        "id": "aZZu55tqXFfv",
        "outputId": "c751a825-a39b-4509-92e0-61a364cad80c"
      },
      "source": [
        "def d2b(num):\n",
        "  \n",
        "    if num > 1:\n",
        "        d2b(num // 2)\n",
        "    print(num % 2, end='')\n",
        "\n",
        "\n",
        "# decimal number\n",
        "number = int(input(\"Enter any decimal number: \"))\n",
        "\n",
        "d2b(number)\n"
      ],
      "execution_count": 21,
      "outputs": [
        {
          "output_type": "stream",
          "name": "stdout",
          "text": [
            "Enter any decimal number: 22\n",
            "10110"
          ]
        }
      ]
    },
    {
      "cell_type": "markdown",
      "metadata": {
        "id": "hlm9UUc_XF6M"
      },
      "source": [
        ""
      ]
    },
    {
      "cell_type": "markdown",
      "metadata": {
        "id": "dMmHNhinwwko"
      },
      "source": [
        "Q6. Write a function cubesum() that accepts an integer and returns the sum of the cubes of individual digits of that number. Use this function to make functions PrintArmstrong() and isArmstrong() to print Armstrong numbers and to find whether is an Armstrong number."
      ]
    },
    {
      "cell_type": "code",
      "metadata": {
        "colab": {
          "base_uri": "https://localhost:8080/"
        },
        "id": "7eijRnP1w1xr",
        "outputId": "d448dcf2-f9b5-4212-8d8d-9cb1cf78c902"
      },
      "source": [
        "def cubesome(n):\n",
        "    sum=0\n",
        "    for i in str(n):\n",
        "        a=int(i)**3\n",
        "        sum=sum+a\n",
        "    return sum\n",
        "        \n",
        "cubesome(int(input(\"Enter Number: \")))"
      ],
      "execution_count": 22,
      "outputs": [
        {
          "name": "stdout",
          "output_type": "stream",
          "text": [
            "Enter Number: 21\n"
          ]
        },
        {
          "output_type": "execute_result",
          "data": {
            "text/plain": [
              "9"
            ]
          },
          "metadata": {},
          "execution_count": 22
        }
      ]
    },
    {
      "cell_type": "code",
      "metadata": {
        "colab": {
          "base_uri": "https://localhost:8080/"
        },
        "id": "4NkGPFOiUvvw",
        "outputId": "1f5fbcad-f268-4c4a-fbb7-fb6466a1eff6"
      },
      "source": [
        "def isArmstrong(n):\n",
        "    return True if cubesome(n)==n else False\n",
        "        \n",
        "\n",
        "isArmstrong(int(input(\"Enter Number: \")))"
      ],
      "execution_count": 25,
      "outputs": [
        {
          "name": "stdout",
          "output_type": "stream",
          "text": [
            "Enter Number: 153\n"
          ]
        },
        {
          "output_type": "execute_result",
          "data": {
            "text/plain": [
              "True"
            ]
          },
          "metadata": {},
          "execution_count": 25
        }
      ]
    },
    {
      "cell_type": "code",
      "metadata": {
        "colab": {
          "base_uri": "https://localhost:8080/"
        },
        "id": "PJWiBL2uU3ZW",
        "outputId": "6d0ade35-c1f6-4097-b666-ec8be77d0b0b"
      },
      "source": [
        "lst=[]\n",
        "def armstrong(n):\n",
        "    for i in range(n+1):\n",
        "        if isArmstrong(i):\n",
        "            lst.append(i)\n",
        "    return lst\n",
        "      \n",
        "armstrong(1000)"
      ],
      "execution_count": 24,
      "outputs": [
        {
          "output_type": "execute_result",
          "data": {
            "text/plain": [
              "[0, 1, 153, 370, 371, 407]"
            ]
          },
          "metadata": {},
          "execution_count": 24
        }
      ]
    },
    {
      "cell_type": "markdown",
      "metadata": {
        "id": "3XnfqpvYw2SO"
      },
      "source": [
        "Q7. Write a function prodDigits() that inputs a number and returns the product of digits of that number."
      ]
    },
    {
      "cell_type": "code",
      "metadata": {
        "colab": {
          "base_uri": "https://localhost:8080/"
        },
        "id": "-Jlu7UP_w3iI",
        "outputId": "e00a1cf0-b9bd-453f-d8ee-b288dca695c9"
      },
      "source": [
        "import functools\n",
        "def prodDigits(n):\n",
        "    lst=list(str(n))\n",
        "    return functools.reduce(lambda x,y:int(x)*int(y),lst)\n",
        "        \n",
        "prodDigits(int(input('Enter a number  ')))"
      ],
      "execution_count": 28,
      "outputs": [
        {
          "name": "stdout",
          "output_type": "stream",
          "text": [
            "Enter a number  21\n"
          ]
        },
        {
          "output_type": "execute_result",
          "data": {
            "text/plain": [
              "2"
            ]
          },
          "metadata": {},
          "execution_count": 28
        }
      ]
    },
    {
      "cell_type": "markdown",
      "metadata": {
        "id": "tWy506uuw39U"
      },
      "source": [
        "Q8. If all digits of a number n are multiplied by each other repeating with the product, the one digit number obtained at last is called the multiplicative digital root of n. The number of times digits need to be multiplied to reach one digit is called the multiplicative persistance of n.     Example: 86 -> 48 -> 32 -> 6 (MDR 6, MPersistence 3)                341 -> 12->2           (MDR 2, MPersistence 2)                Using the function prodDigits() of previous exercise write functions MDR() and MPersistence() that input a number and return its multiplicative digital root and multiplicative persistence respectively"
      ]
    },
    {
      "cell_type": "code",
      "metadata": {
        "colab": {
          "base_uri": "https://localhost:8080/"
        },
        "id": "nOGL6Dx0w6WV",
        "outputId": "5d440d4d-6670-4228-ed43-445c927a9a93"
      },
      "source": [
        "#for finding Multiplicative digital root:\n",
        "\n",
        "import functools\n",
        "def prodDigits(n):\n",
        "    '''This is to find the product of integers in the number'''\n",
        "    lst=list(str(n))\n",
        "    return functools.reduce(lambda x,y:int(x)*int(y),lst)\n",
        "\n",
        "def MDR(n):\n",
        "    '''This is find MDR of a number'''\n",
        "    while n>9:\n",
        "        n=prodDigits(n)\n",
        "    return n\n",
        "        \n",
        "MDR(int(input('Enter a number  ')))"
      ],
      "execution_count": 27,
      "outputs": [
        {
          "name": "stdout",
          "output_type": "stream",
          "text": [
            "Enter a number  21\n"
          ]
        },
        {
          "output_type": "execute_result",
          "data": {
            "text/plain": [
              "2"
            ]
          },
          "metadata": {},
          "execution_count": 27
        }
      ]
    },
    {
      "cell_type": "code",
      "metadata": {
        "colab": {
          "base_uri": "https://localhost:8080/"
        },
        "id": "3pU8pJMsXDwO",
        "outputId": "807d059e-4bb0-4b0e-f1ea-934a7feccb22"
      },
      "source": [
        "#for finding multiplicative persistance :\n",
        "\n",
        "import functools\n",
        "def prodDigits(n):\n",
        "    '''This is to find the product of integers in the number'''\n",
        "    lst=list(str(n))\n",
        "    return functools.reduce(lambda x,y:int(x)*int(y),lst)\n",
        "\n",
        "def MPersistence(n):\n",
        "    '''This is find MPersistence of a number'''\n",
        "    a=0\n",
        "    while n>9:\n",
        "        n=prodDigits(n)\n",
        "        a=a+1\n",
        "    return a\n",
        "        \n",
        "MPersistence(int(input('Enter a number  ')))"
      ],
      "execution_count": 30,
      "outputs": [
        {
          "name": "stdout",
          "output_type": "stream",
          "text": [
            "Enter a number  545\n"
          ]
        },
        {
          "output_type": "execute_result",
          "data": {
            "text/plain": [
              "2"
            ]
          },
          "metadata": {},
          "execution_count": 30
        }
      ]
    },
    {
      "cell_type": "markdown",
      "metadata": {
        "id": "0xIBTqFaw6rg"
      },
      "source": [
        "Q9. Write a function sumPdivisors() that finds the sum of proper divisors of a number. Proper divisors of a number are those numbers by which the number is divisible, except the number itself.  For example proper divisors of 36 are 1, 2, 3, 4, 6, 9, 18"
      ]
    },
    {
      "cell_type": "code",
      "metadata": {
        "colab": {
          "base_uri": "https://localhost:8080/"
        },
        "id": "F_JjmrB-w8D7",
        "outputId": "e4653cdc-72c7-484a-9552-3116aa26485f"
      },
      "source": [
        "import math                       #reference : https://www.geeksforgeeks.org/sum-of-all-proper-divisors-of-a-natural-number/\n",
        "     \n",
        "def sumPdivisors(num) :\n",
        "     \n",
        "    result = 0\n",
        "     \n",
        "    i = 2\n",
        "    while i<= (math.sqrt(num)) :\n",
        "       \n",
        "        if (num % i == 0) :\n",
        "      \n",
        "            if (i == (num / i)) :\n",
        "                result = result + i;\n",
        "            else :\n",
        "                result = result +  (i + num/i);\n",
        "        i = i + 1\n",
        "         \n",
        "    return (result + 1);\n",
        "  \n",
        "num = int(input(\"Enter a Number: \"))\n",
        "print (sumPdivisors(num))"
      ],
      "execution_count": 34,
      "outputs": [
        {
          "output_type": "stream",
          "name": "stdout",
          "text": [
            "Enter a Number: 10\n",
            "8.0\n"
          ]
        }
      ]
    },
    {
      "cell_type": "markdown",
      "metadata": {
        "id": "jBDSvphnw8yx"
      },
      "source": [
        "Q10.  A number is called perfect if the sum of proper divisors of that number is equal to the number. For example 28 is perfect number, since 1+2+4+7+14=28. Write a program to print all the perfect numbers in a given range"
      ]
    },
    {
      "cell_type": "code",
      "metadata": {
        "colab": {
          "base_uri": "https://localhost:8080/"
        },
        "id": "35Uh2Iiww-da",
        "outputId": "2ffd06b8-3758-4c99-d271-9eae61f069a4"
      },
      "source": [
        "def sumPdivisors(n):\n",
        "    sum=0\n",
        "    #lst=[]\n",
        "    for i in range(1,n):\n",
        "        if n%i==0:\n",
        "            sum=sum+i\n",
        "            #lst.append(i)\n",
        "    return sum #,lst\n",
        "\n",
        "a=int(input(\"Enter start: \"))\n",
        "b=int(input(\"Enter end: \"))\n",
        "lst=[]\n",
        "for i in range(a,b+1):\n",
        "    if sumPdivisors(i)==i:\n",
        "        lst.append(i)\n",
        "lst"
      ],
      "execution_count": 35,
      "outputs": [
        {
          "name": "stdout",
          "output_type": "stream",
          "text": [
            "Enter start: 1\n",
            "Enter end: 100\n"
          ]
        },
        {
          "output_type": "execute_result",
          "data": {
            "text/plain": [
              "[6, 28]"
            ]
          },
          "metadata": {},
          "execution_count": 35
        }
      ]
    },
    {
      "cell_type": "markdown",
      "metadata": {
        "id": "sqtiOwMAw-4Q"
      },
      "source": [
        "Q11.Two different numbers are called amicable numbers if the sum of the proper divisors of each is equal to the other number. For example 220 and 284 are amicable numbers.Sum of proper divisors of 220 = 1+2+4+5+10+11+20+22+44+55+110 = 284. Sum of proper divisors of 284 = 1+2+4+71+142 = 220. Write a function to print pairs of amicable numbers in a range"
      ]
    },
    {
      "cell_type": "code",
      "metadata": {
        "colab": {
          "base_uri": "https://localhost:8080/"
        },
        "id": "HMI44gLoxAID",
        "outputId": "a04d84a6-56f5-40cc-8c67-ff6236416db9"
      },
      "source": [
        "def sumPdivisors(n):\n",
        "    sum=0\n",
        "    #lst=[]\n",
        "    for i in range(1,n):\n",
        "        if n%i==0:\n",
        "            sum=sum+i\n",
        "            #lst.append(i)\n",
        "    return sum #,lst\n",
        "\n",
        "a=int(input(\"Enter start: \"))\n",
        "b=int(input(\"Enter end: \"))\n",
        "lst1=[]\n",
        "for i in range(a,b+1):\n",
        "    s=sumPdivisors(i)\n",
        "    for j in range(i+1,b+1):\n",
        "        if i==sumPdivisors(j) and s==j:\n",
        "            print(i,j)"
      ],
      "execution_count": 38,
      "outputs": [
        {
          "output_type": "stream",
          "name": "stdout",
          "text": [
            "Enter start: 1\n",
            "Enter end: 1000\n",
            "220 284\n"
          ]
        }
      ]
    },
    {
      "cell_type": "markdown",
      "metadata": {
        "id": "HDV6uEDSxAtS"
      },
      "source": [
        "Q12. Write a program which can filter odd numbers in a list by using filter function"
      ]
    },
    {
      "cell_type": "code",
      "metadata": {
        "colab": {
          "base_uri": "https://localhost:8080/"
        },
        "id": "boPwFCxUxC3v",
        "outputId": "b3e33305-8b46-4493-c54f-a581250f4416"
      },
      "source": [
        "a = int(input(\"Enter range : \")) \n",
        "\n",
        "lst=list(range(a))\n",
        "oddlst=[]\n",
        "def Odd(n):\n",
        "    if n%2!=0:\n",
        "        return True\n",
        "  \n",
        "print(list(filter(Odd,lst)))"
      ],
      "execution_count": 40,
      "outputs": [
        {
          "output_type": "stream",
          "name": "stdout",
          "text": [
            "Enter range : 10\n",
            "[1, 3, 5, 7, 9]\n"
          ]
        }
      ]
    },
    {
      "cell_type": "markdown",
      "metadata": {
        "id": "hTYyvFm5xDaw"
      },
      "source": [
        "Q13. Write a program which can map() to make a list whose elements are cube of elements in a given list"
      ]
    },
    {
      "cell_type": "code",
      "metadata": {
        "colab": {
          "base_uri": "https://localhost:8080/"
        },
        "id": "swa2l3fdxE5l",
        "outputId": "e3477eaf-f38c-44b4-ca71-04732cf44454"
      },
      "source": [
        "a = int(input(\"Enter range : \")) \n",
        "lst=list(range(a))\n",
        "result=list(map(lambda x:x**3,lst))\n",
        "result"
      ],
      "execution_count": 41,
      "outputs": [
        {
          "name": "stdout",
          "output_type": "stream",
          "text": [
            "Enter range : 5\n"
          ]
        },
        {
          "output_type": "execute_result",
          "data": {
            "text/plain": [
              "[0, 1, 8, 27, 64]"
            ]
          },
          "metadata": {},
          "execution_count": 41
        }
      ]
    },
    {
      "cell_type": "markdown",
      "metadata": {
        "id": "6g7TR2pFxFRd"
      },
      "source": [
        "Q14. Write a program which can map() and filter() to make a list whose elements are cube of even number in a given list."
      ]
    },
    {
      "cell_type": "code",
      "metadata": {
        "colab": {
          "base_uri": "https://localhost:8080/"
        },
        "id": "zpV5fuDaakr_",
        "outputId": "576b883d-92b1-4244-8b95-33946d57a42b"
      },
      "source": [
        "a = int(input(\"Enter range : \")) \n",
        "\n",
        "lst=list(range(a))\n",
        "result=list(map(lambda y:y**3,list(filter(lambda x:x%2==0,lst))))\n",
        "result"
      ],
      "execution_count": 43,
      "outputs": [
        {
          "name": "stdout",
          "output_type": "stream",
          "text": [
            "Enter range : 10\n"
          ]
        },
        {
          "output_type": "execute_result",
          "data": {
            "text/plain": [
              "[0, 8, 64, 216, 512]"
            ]
          },
          "metadata": {},
          "execution_count": 43
        }
      ]
    }
  ]
}